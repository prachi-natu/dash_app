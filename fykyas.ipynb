{
 "cells": [
  {
   "cell_type": "code",
   "execution_count": null,
   "metadata": {},
   "outputs": [],
   "source": [
    "import numpy as np\n",
    "import pandas as pd\n",
    "#import matplotlib.pyplot as plt\n",
    "from datetime import datetime as dt\n",
    "import plotly.express as px  # (version 4.7.0 or higher)\n",
    "import plotly.graph_objects as go\n",
    "from dash import Dash\n",
    "from dash import dcc\n",
    "#import dash_core_components as dcc \n",
    "import dash_bootstrap_components as dbc\n",
    "#from dash import dbc\n",
    "from dash import html\n",
    "#import dash_html_components as html\n",
    "from dash.dependencies import Input, Output, State\n",
    "from datetime import date"
   ]
  },
  {
   "cell_type": "code",
   "execution_count": null,
   "metadata": {},
   "outputs": [],
   "source": [
    "df=pd.read_csv('fykyas.csv')\n",
    "df.head()"
   ]
  },
  {
   "cell_type": "code",
   "execution_count": null,
   "metadata": {},
   "outputs": [],
   "source": [
    "df.shape"
   ]
  },
  {
   "cell_type": "code",
   "execution_count": null,
   "metadata": {},
   "outputs": [],
   "source": [
    "df['Date']=df['Date'].astype('datetime64')"
   ]
  },
  {
   "cell_type": "code",
   "execution_count": null,
   "metadata": {},
   "outputs": [],
   "source": [
    "df['Date'].head()"
   ]
  },
  {
   "cell_type": "code",
   "execution_count": null,
   "metadata": {},
   "outputs": [],
   "source": [
    "df.info()"
   ]
  },
  {
   "cell_type": "code",
   "execution_count": null,
   "metadata": {},
   "outputs": [],
   "source": [
    "df.drop(['Unnamed: 0'], axis=1, inplace=True)"
   ]
  },
  {
   "cell_type": "code",
   "execution_count": null,
   "metadata": {},
   "outputs": [],
   "source": [
    "df.columns"
   ]
  },
  {
   "cell_type": "code",
   "execution_count": null,
   "metadata": {},
   "outputs": [],
   "source": [
    "df1= df[['Date','year','month','Month','Week','day','hour','minute','second','Soaking Zone Temp', 'Heating Zone Temp', 'Furnace pressure', 'Soaking Zone Coal Motor RPM','Oxygen %','Air Motor RPM','Combustion Air temp before Rec','Combustion Air temp After Rec','Combustion Air Pressure Before Rec','Combustion Air Pressure After Rec','Coal Consumption per Unit']]"
   ]
  },
  {
   "cell_type": "code",
   "execution_count": null,
   "metadata": {},
   "outputs": [],
   "source": [
    "df1.head()"
   ]
  },
  {
   "cell_type": "code",
   "execution_count": null,
   "metadata": {},
   "outputs": [],
   "source": [
    "df1.shape"
   ]
  },
  {
   "cell_type": "code",
   "execution_count": null,
   "metadata": {},
   "outputs": [],
   "source": [
    "df1_new = df1.groupby([\"Date\",\"Month\"])['Coal Consumption per Unit'].sum().reset_index().rename(columns={'sum':'Total coal consumption'})#agg(items_ord = (\"qty_ordered\", \"sum\"),sales = (\"grand_total\", \"sum\")).reset_index()"
   ]
  },
  {
   "cell_type": "code",
   "execution_count": null,
   "metadata": {},
   "outputs": [],
   "source": [
    "df1_new['Date'].head()"
   ]
  },
  {
   "cell_type": "code",
   "execution_count": null,
   "metadata": {},
   "outputs": [],
   "source": [
    "df1_new"
   ]
  },
  {
   "cell_type": "code",
   "execution_count": null,
   "metadata": {},
   "outputs": [],
   "source": [
    "df11=df1.groupby([\"Month\",\"year\"])['Coal Consumption per Unit'].sum().reset_index()"
   ]
  },
  {
   "cell_type": "code",
   "execution_count": null,
   "metadata": {},
   "outputs": [],
   "source": [
    "df11.shape"
   ]
  },
  {
   "cell_type": "code",
   "execution_count": null,
   "metadata": {},
   "outputs": [],
   "source": [
    "df11"
   ]
  },
  {
   "cell_type": "code",
   "execution_count": null,
   "metadata": {},
   "outputs": [],
   "source": [
    "#fig=None\n",
    "app = Dash(__name__, external_stylesheets=[dbc.themes.BOOTSTRAP])\n",
    "app.layout = html.Div([\n",
    "    dbc.Row([\n",
    "        dbc.Col(html.H1(\"Fuel Consumption Dashboard\", style={'textAlign':'center'}), width=12)\n",
    "    ]),\n",
    "    dbc.Row([\n",
    "        dbc.Col(html.H3(\"Daily Fuel Consumption\"),  width=8),\n",
    "        dbc.Col(html.H3(\"Monthly Fuel Consumption\"), width=4)\n",
    "    ]),\n",
    "    #html.H3(\"Fuel Consumption Dashboard\", style={'textAlign': 'center'}),\n",
    "    #html.Label(\"Frequency: \", style={'fontsize':30, 'textalign':'right'}),\n",
    "    dbc.Row([\n",
    "        dbc.Col(dcc.DatePickerRange(id='my-date-picker-range',  # ID to be used for callback\n",
    "                                    calendar_orientation='horizontal',  # vertical or horizontal\n",
    "                                    day_size=39,  # size of calendar image. Default is 39\n",
    "                                    end_date_placeholder_text=\"Return\",  # text that appears when no end date chosen\n",
    "                                    with_portal=False,  # if True calendar will open in a full screen overlay portal\n",
    "                                    first_day_of_week=0,  # Display of calendar when open (0 = Sunday)\n",
    "                                    reopen_calendar_on_clear=True,\n",
    "                                    is_RTL=False,  # True or False for direction of calendar\n",
    "                                    clearable=True,  # whether or not the user can clear the dropdown\n",
    "                                    number_of_months_shown=1,  # number of months shown when calendar is open\n",
    "                                    min_date_allowed=dt(2021, 1, 1),  # minimum date allowed on the DatePickerRange component\n",
    "                                    max_date_allowed=dt(2021, 12, 31),  # maximum date allowed on the DatePickerRange component\n",
    "                                    initial_visible_month=dt(2021, 1, 1),  # the month initially presented when the user opens the calendar\n",
    "                                    start_date=dt(2021, 1, 1).date(),\n",
    "                                    end_date=dt(2021, 12, 31).date(),\n",
    "                                    display_format='MMM Do, YY',  # how selected dates are displayed in the DatePickerRange component.\n",
    "                                    month_format='MMMM, YYYY',  # how calendar headers are displayed when the calendar is opened.\n",
    "                                    minimum_nights=1,  # minimum number of days between start and end date\n",
    "                                    persistence=True, persisted_props=['start_date'],persistence_type='session',  # session, local, or memory. Default is 'local'\n",
    "                                    updatemode='singledate'), xs=4, sm=4, md=4, lg=2, xl=2),  # singledate or bothdates. Determines when callback is triggered),\n",
    "                \n",
    "        dbc.Col(dcc.Graph(id='day-bar', figure={},config={'displayModeBar':False}), xs=8, sm=8, md=8, lg=6, xl=6),\n",
    "        dbc.Col(dcc.Graph(id='month-bar', figure={},config={'displayModeBar': False}), xs=6, sm=6, md=6, lg=4, xl=4)\n",
    "           ])#, no_gutters=True)\n",
    "\n",
    "    \n",
    "])"
   ]
  },
  {
   "cell_type": "code",
   "execution_count": null,
   "metadata": {},
   "outputs": [],
   "source": [
    "\n",
    "@app.callback(\n",
    "    [Output('day-bar', 'figure'),Output('month-bar', 'figure')],\n",
    "    [Input('my-date-picker-range', 'start_date'),\n",
    "     Input('my-date-picker-range', 'end_date')]\n",
    ")\n",
    "#fig=None\n",
    "def update_output(start_date, end_date): # no of arguments = No of inputs\n",
    "    #global fig\n",
    "    #dff=[]\n",
    "    print(start_date)\n",
    "    print(end_date)\n",
    "    dff=df1\n",
    "    mask=(dff['Date'] >= start_date) & (dff['Date'] <= end_date)\n",
    "    #print(mask)\n",
    "    dff_selected=dff.loc[mask]\n",
    "    #print(dff.head())\n",
    "    df_date=dff_selected.groupby([\"Date\",\"Month\"])['Coal Consumption per Unit'].sum().reset_index()\n",
    "    print(df_date.head())\n",
    "    df_month=dff_selected.groupby([\"Month\",\"year\"])['Coal Consumption per Unit'].sum().reset_index()\n",
    "    print(df_month.head())\n",
    "    figure = px.bar(df_date, x=df_date['Date'], y=df_date['Coal Consumption per Unit'])\n",
    "    #dff=dff.groupby(['Month'])['Coal Consumption per Unit'].sum()\n",
    "    figure_month=px.bar(df_month, x=df_month['Month'], y=df_month['Coal Consumption per Unit'])\n",
    "    return figure, figure_month\n",
    "    #elif value_of_frequency=='Month':\n",
    "     #   dff=df11\n",
    "        \n",
    "        #dff=df1[df1.groupby(['Month','Date'])['Coal Consumption per Unit'].sum().reset_index()\n",
    "        #global fig\n",
    "      #  figure=px.bar(dff, x=dff['Month'], y=dff['Coal Consumption per Unit'])\n",
    "       # return figure"
   ]
  },
  {
   "cell_type": "code",
   "execution_count": null,
   "metadata": {},
   "outputs": [],
   "source": [
    "if __name__ == '__main__':\n",
    "    app.run_server(debug=True, use_reloader=False)"
   ]
  },
  {
   "cell_type": "code",
   "execution_count": null,
   "metadata": {},
   "outputs": [],
   "source": []
  }
 ],
 "metadata": {
  "kernelspec": {
   "display_name": "Python 3.9.12 ('base')",
   "language": "python",
   "name": "python3"
  },
  "language_info": {
   "codemirror_mode": {
    "name": "ipython",
    "version": 3
   },
   "file_extension": ".py",
   "mimetype": "text/x-python",
   "name": "python",
   "nbconvert_exporter": "python",
   "pygments_lexer": "ipython3",
   "version": "3.9.12"
  },
  "orig_nbformat": 4,
  "vscode": {
   "interpreter": {
    "hash": "c616f9fdadd4cb13f7e752bc9076332fcc62bcc471559d4868ab17eef59f504b"
   }
  }
 },
 "nbformat": 4,
 "nbformat_minor": 2
}
